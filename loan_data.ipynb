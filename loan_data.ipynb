{
 "cells": [
  {
   "cell_type": "code",
   "execution_count": 1,
   "metadata": {},
   "outputs": [],
   "source": [
    "import pandas as pd\n",
    "import numpy as np\n",
    "import matplotlib.pyplot as plt\n",
    "%matplotlib inline\n",
    "from sklearn.preprocessing import StandardScaler\n",
    "from sklearn.linear_model import LogisticRegression\n",
    "from sklearn.tree import DecisionTreeClassifier\n",
    "from sklearn.model_selection import train_test_split\n",
    "from sklearn.metrics import accuracy_score\n",
    "from sklearn.preprocessing import PolynomialFeatures\n",
    "import warnings\n",
    "warnings.filterwarnings(\"ignore\")\n",
    "np.random.seed(42)"
   ]
  },
  {
   "cell_type": "code",
   "execution_count": 3,
   "metadata": {},
   "outputs": [
    {
     "data": {
      "text/html": [
       "<div>\n",
       "<style scoped>\n",
       "    .dataframe tbody tr th:only-of-type {\n",
       "        vertical-align: middle;\n",
       "    }\n",
       "\n",
       "    .dataframe tbody tr th {\n",
       "        vertical-align: top;\n",
       "    }\n",
       "\n",
       "    .dataframe thead th {\n",
       "        text-align: right;\n",
       "    }\n",
       "</style>\n",
       "<table border=\"1\" class=\"dataframe\">\n",
       "  <thead>\n",
       "    <tr style=\"text-align: right;\">\n",
       "      <th></th>\n",
       "      <th>credit.policy</th>\n",
       "      <th>purpose</th>\n",
       "      <th>int.rate</th>\n",
       "      <th>installment</th>\n",
       "      <th>log.annual.inc</th>\n",
       "      <th>dti</th>\n",
       "      <th>fico</th>\n",
       "      <th>days.with.cr.line</th>\n",
       "      <th>revol.bal</th>\n",
       "      <th>revol.util</th>\n",
       "      <th>inq.last.6mths</th>\n",
       "      <th>delinq.2yrs</th>\n",
       "      <th>pub.rec</th>\n",
       "      <th>not.fully.paid</th>\n",
       "    </tr>\n",
       "  </thead>\n",
       "  <tbody>\n",
       "    <tr>\n",
       "      <th>0</th>\n",
       "      <td>1</td>\n",
       "      <td>debt_consolidation</td>\n",
       "      <td>0.1189</td>\n",
       "      <td>829.10</td>\n",
       "      <td>11.350407</td>\n",
       "      <td>19.48</td>\n",
       "      <td>737</td>\n",
       "      <td>5639.958333</td>\n",
       "      <td>28854</td>\n",
       "      <td>52.1</td>\n",
       "      <td>0</td>\n",
       "      <td>0</td>\n",
       "      <td>0</td>\n",
       "      <td>0</td>\n",
       "    </tr>\n",
       "    <tr>\n",
       "      <th>1</th>\n",
       "      <td>1</td>\n",
       "      <td>credit_card</td>\n",
       "      <td>0.1071</td>\n",
       "      <td>228.22</td>\n",
       "      <td>11.082143</td>\n",
       "      <td>14.29</td>\n",
       "      <td>707</td>\n",
       "      <td>2760.000000</td>\n",
       "      <td>33623</td>\n",
       "      <td>76.7</td>\n",
       "      <td>0</td>\n",
       "      <td>0</td>\n",
       "      <td>0</td>\n",
       "      <td>0</td>\n",
       "    </tr>\n",
       "    <tr>\n",
       "      <th>2</th>\n",
       "      <td>1</td>\n",
       "      <td>debt_consolidation</td>\n",
       "      <td>0.1357</td>\n",
       "      <td>366.86</td>\n",
       "      <td>10.373491</td>\n",
       "      <td>11.63</td>\n",
       "      <td>682</td>\n",
       "      <td>4710.000000</td>\n",
       "      <td>3511</td>\n",
       "      <td>25.6</td>\n",
       "      <td>1</td>\n",
       "      <td>0</td>\n",
       "      <td>0</td>\n",
       "      <td>0</td>\n",
       "    </tr>\n",
       "    <tr>\n",
       "      <th>3</th>\n",
       "      <td>1</td>\n",
       "      <td>debt_consolidation</td>\n",
       "      <td>0.1008</td>\n",
       "      <td>162.34</td>\n",
       "      <td>11.350407</td>\n",
       "      <td>8.10</td>\n",
       "      <td>712</td>\n",
       "      <td>2699.958333</td>\n",
       "      <td>33667</td>\n",
       "      <td>73.2</td>\n",
       "      <td>1</td>\n",
       "      <td>0</td>\n",
       "      <td>0</td>\n",
       "      <td>0</td>\n",
       "    </tr>\n",
       "    <tr>\n",
       "      <th>4</th>\n",
       "      <td>1</td>\n",
       "      <td>credit_card</td>\n",
       "      <td>0.1426</td>\n",
       "      <td>102.92</td>\n",
       "      <td>11.299732</td>\n",
       "      <td>14.97</td>\n",
       "      <td>667</td>\n",
       "      <td>4066.000000</td>\n",
       "      <td>4740</td>\n",
       "      <td>39.5</td>\n",
       "      <td>0</td>\n",
       "      <td>1</td>\n",
       "      <td>0</td>\n",
       "      <td>0</td>\n",
       "    </tr>\n",
       "  </tbody>\n",
       "</table>\n",
       "</div>"
      ],
      "text/plain": [
       "   credit.policy             purpose  int.rate  installment  log.annual.inc  \\\n",
       "0              1  debt_consolidation    0.1189       829.10       11.350407   \n",
       "1              1         credit_card    0.1071       228.22       11.082143   \n",
       "2              1  debt_consolidation    0.1357       366.86       10.373491   \n",
       "3              1  debt_consolidation    0.1008       162.34       11.350407   \n",
       "4              1         credit_card    0.1426       102.92       11.299732   \n",
       "\n",
       "     dti  fico  days.with.cr.line  revol.bal  revol.util  inq.last.6mths  \\\n",
       "0  19.48   737        5639.958333      28854        52.1               0   \n",
       "1  14.29   707        2760.000000      33623        76.7               0   \n",
       "2  11.63   682        4710.000000       3511        25.6               1   \n",
       "3   8.10   712        2699.958333      33667        73.2               1   \n",
       "4  14.97   667        4066.000000       4740        39.5               0   \n",
       "\n",
       "   delinq.2yrs  pub.rec  not.fully.paid  \n",
       "0            0        0               0  \n",
       "1            0        0               0  \n",
       "2            0        0               0  \n",
       "3            0        0               0  \n",
       "4            1        0               0  "
      ]
     },
     "execution_count": 3,
     "metadata": {},
     "output_type": "execute_result"
    }
   ],
   "source": [
    "df = pd.read_csv('C:/Users/User/Downloads/loan_data.csv')\n",
    "df.head()"
   ]
  },
  {
   "cell_type": "code",
   "execution_count": 14,
   "metadata": {},
   "outputs": [
    {
     "data": {
      "text/plain": [
       "(9578, 14)"
      ]
     },
     "execution_count": 14,
     "metadata": {},
     "output_type": "execute_result"
    }
   ],
   "source": [
    "x = df.drop(['not.fully.paid','purpose'],axis=1)\n",
    "y = df['not.fully.paid']\n",
    "df.shape"
   ]
  },
  {
   "cell_type": "code",
   "execution_count": 5,
   "metadata": {},
   "outputs": [],
   "source": [
    "from sklearn.model_selection import train_test_split"
   ]
  },
  {
   "cell_type": "code",
   "execution_count": 15,
   "metadata": {},
   "outputs": [],
   "source": [
    "x_train, x_test, y_train, y_test = train_test_split(\n",
    "     x, y, test_size=0.4, random_state=101)"
   ]
  },
  {
   "cell_type": "code",
   "execution_count": 17,
   "metadata": {},
   "outputs": [
    {
     "data": {
      "text/plain": [
       "(5746, 12)"
      ]
     },
     "execution_count": 17,
     "metadata": {},
     "output_type": "execute_result"
    }
   ],
   "source": [
    "x_train.shape"
   ]
  },
  {
   "cell_type": "code",
   "execution_count": 9,
   "metadata": {},
   "outputs": [
    {
     "name": "stdout",
     "output_type": "stream",
     "text": [
      "<class 'pandas.core.frame.DataFrame'>\n",
      "RangeIndex: 9578 entries, 0 to 9577\n",
      "Data columns (total 14 columns):\n",
      " #   Column             Non-Null Count  Dtype  \n",
      "---  ------             --------------  -----  \n",
      " 0   credit.policy      9578 non-null   int64  \n",
      " 1   purpose            9578 non-null   object \n",
      " 2   int.rate           9578 non-null   float64\n",
      " 3   installment        9578 non-null   float64\n",
      " 4   log.annual.inc     9578 non-null   float64\n",
      " 5   dti                9578 non-null   float64\n",
      " 6   fico               9578 non-null   int64  \n",
      " 7   days.with.cr.line  9578 non-null   float64\n",
      " 8   revol.bal          9578 non-null   int64  \n",
      " 9   revol.util         9578 non-null   float64\n",
      " 10  inq.last.6mths     9578 non-null   int64  \n",
      " 11  delinq.2yrs        9578 non-null   int64  \n",
      " 12  pub.rec            9578 non-null   int64  \n",
      " 13  not.fully.paid     9578 non-null   int64  \n",
      "dtypes: float64(6), int64(7), object(1)\n",
      "memory usage: 1.0+ MB\n"
     ]
    }
   ],
   "source": [
    "df.info()"
   ]
  },
  {
   "cell_type": "code",
   "execution_count": 18,
   "metadata": {},
   "outputs": [
    {
     "data": {
      "text/plain": [
       "LogisticRegression(C=1.0, class_weight=None, dual=False, fit_intercept=True,\n",
       "                   intercept_scaling=1, l1_ratio=None, max_iter=100,\n",
       "                   multi_class='auto', n_jobs=None, penalty='l2',\n",
       "                   random_state=None, solver='lbfgs', tol=0.0001, verbose=0,\n",
       "                   warm_start=False)"
      ]
     },
     "execution_count": 18,
     "metadata": {},
     "output_type": "execute_result"
    }
   ],
   "source": [
    "lr=LogisticRegression()\n",
    "lr.fit(x_train,y_train)"
   ]
  },
  {
   "cell_type": "code",
   "execution_count": 20,
   "metadata": {},
   "outputs": [
    {
     "name": "stdout",
     "output_type": "stream",
     "text": [
      "0.8442066805845512\n"
     ]
    }
   ],
   "source": [
    "predictions = lr.predict(x_test)\n",
    "print(accuracy_score(y_test, predictions))"
   ]
  },
  {
   "cell_type": "code",
   "execution_count": 21,
   "metadata": {},
   "outputs": [
    {
     "name": "stdout",
     "output_type": "stream",
     "text": [
      "0.7291231732776617\n"
     ]
    }
   ],
   "source": [
    "dt=DecisionTreeClassifier()\n",
    "dt.fit(x_train,y_train)\n",
    "y_pred=dt.predict(x_test)\n",
    "print(accuracy_score(y_test, y_pred))"
   ]
  },
  {
   "cell_type": "code",
   "execution_count": 25,
   "metadata": {},
   "outputs": [],
   "source": [
    "def fit_predict(x_train, x_test, y_train, y_test, scaler, max_depth, \n",
    "                criterion = 'entropy', max_features = 1, min_samples_split = 4):\n",
    "    x_train_scaled = scaler.fit_transform(x_train)\n",
    "    x_test_scaled = scaler.transform(x_test)        \n",
    "    dt = DecisionTreeClassifier(criterion = criterion, max_depth=max_depth, \n",
    "                                random_state=42, max_features=max_features,\n",
    "                               min_samples_split=min_samples_split)\n",
    "    dt.fit(x_train_scaled, y_train)\n",
    "    y_pred = dt.predict(x_test_scaled)\n",
    "    print(accuracy_score(y_test, y_pred))"
   ]
  },
  {
   "cell_type": "code",
   "execution_count": 27,
   "metadata": {},
   "outputs": [
    {
     "ename": "SyntaxError",
     "evalue": "invalid syntax (<ipython-input-27-1b4b5e1df396>, line 3)",
     "output_type": "error",
     "traceback": [
      "\u001b[1;36m  File \u001b[1;32m\"<ipython-input-27-1b4b5e1df396>\"\u001b[1;36m, line \u001b[1;32m3\u001b[0m\n\u001b[1;33m    fit_predict=(x_train, x_test, y_train, y_test, StandardScaler(), max_depth=i)\u001b[0m\n\u001b[1;37m                                                                              ^\u001b[0m\n\u001b[1;31mSyntaxError\u001b[0m\u001b[1;31m:\u001b[0m invalid syntax\n"
     ]
    }
   ],
   "source": [
    "for i in range(1,20):\n",
    "    print('accuracy_score using max depth=', i, end=': ')\n",
    "    fit_predict=(x_train, x_test, y_train, y_test, StandardScaler(), max_depth=i)"
   ]
  },
  {
   "cell_type": "code",
   "execution_count": 28,
   "metadata": {},
   "outputs": [],
   "source": [
    "from sklearn.ensemble import RandomForestClassifier"
   ]
  },
  {
   "cell_type": "code",
   "execution_count": 29,
   "metadata": {},
   "outputs": [],
   "source": [
    "rf = RandomForestClassifier(criterion= 'gini')"
   ]
  },
  {
   "cell_type": "code",
   "execution_count": 30,
   "metadata": {},
   "outputs": [
    {
     "data": {
      "text/plain": [
       "RandomForestClassifier(bootstrap=True, ccp_alpha=0.0, class_weight=None,\n",
       "                       criterion='gini', max_depth=None, max_features='auto',\n",
       "                       max_leaf_nodes=None, max_samples=None,\n",
       "                       min_impurity_decrease=0.0, min_impurity_split=None,\n",
       "                       min_samples_leaf=1, min_samples_split=2,\n",
       "                       min_weight_fraction_leaf=0.0, n_estimators=100,\n",
       "                       n_jobs=None, oob_score=False, random_state=None,\n",
       "                       verbose=0, warm_start=False)"
      ]
     },
     "execution_count": 30,
     "metadata": {},
     "output_type": "execute_result"
    }
   ],
   "source": [
    "rf.fit(x_train,y_train)"
   ]
  },
  {
   "cell_type": "code",
   "execution_count": 31,
   "metadata": {},
   "outputs": [],
   "source": [
    "pred_rf=rf.predict(x_test)"
   ]
  },
  {
   "cell_type": "code",
   "execution_count": 32,
   "metadata": {},
   "outputs": [],
   "source": [
    "from sklearn.metrics import accuracy_score"
   ]
  },
  {
   "cell_type": "code",
   "execution_count": 33,
   "metadata": {},
   "outputs": [
    {
     "name": "stdout",
     "output_type": "stream",
     "text": [
      "0.843945720250522\n"
     ]
    }
   ],
   "source": [
    " print(accuracy_score(y_test, pred_rf))"
   ]
  },
  {
   "cell_type": "code",
   "execution_count": 34,
   "metadata": {},
   "outputs": [],
   "source": [
    "from sklearn.model_selection import GridSearchCV"
   ]
  },
  {
   "cell_type": "code",
   "execution_count": 35,
   "metadata": {},
   "outputs": [],
   "source": [
    "params={'n_estimators' : [200, 500, 700], 'max_depth' : [10, 15, 18, 20], 'min_samples_leaf' : [3, 5, 7]}"
   ]
  },
  {
   "cell_type": "code",
   "execution_count": 36,
   "metadata": {},
   "outputs": [],
   "source": [
    "gs = GridSearchCV(rf, params, verbose=3)"
   ]
  },
  {
   "cell_type": "code",
   "execution_count": 37,
   "metadata": {},
   "outputs": [
    {
     "name": "stdout",
     "output_type": "stream",
     "text": [
      "Fitting 5 folds for each of 36 candidates, totalling 180 fits\n",
      "[CV] max_depth=10, min_samples_leaf=3, n_estimators=200 ..............\n"
     ]
    },
    {
     "name": "stderr",
     "output_type": "stream",
     "text": [
      "[Parallel(n_jobs=1)]: Using backend SequentialBackend with 1 concurrent workers.\n"
     ]
    },
    {
     "name": "stdout",
     "output_type": "stream",
     "text": [
      "[CV]  max_depth=10, min_samples_leaf=3, n_estimators=200, score=0.835, total=   2.8s\n",
      "[CV] max_depth=10, min_samples_leaf=3, n_estimators=200 ..............\n"
     ]
    },
    {
     "name": "stderr",
     "output_type": "stream",
     "text": [
      "[Parallel(n_jobs=1)]: Done   1 out of   1 | elapsed:    2.7s remaining:    0.0s\n"
     ]
    },
    {
     "name": "stdout",
     "output_type": "stream",
     "text": [
      "[CV]  max_depth=10, min_samples_leaf=3, n_estimators=200, score=0.837, total=   2.8s\n",
      "[CV] max_depth=10, min_samples_leaf=3, n_estimators=200 ..............\n"
     ]
    },
    {
     "name": "stderr",
     "output_type": "stream",
     "text": [
      "[Parallel(n_jobs=1)]: Done   2 out of   2 | elapsed:    5.5s remaining:    0.0s\n"
     ]
    },
    {
     "name": "stdout",
     "output_type": "stream",
     "text": [
      "[CV]  max_depth=10, min_samples_leaf=3, n_estimators=200, score=0.837, total=   2.7s\n",
      "[CV] max_depth=10, min_samples_leaf=3, n_estimators=200 ..............\n",
      "[CV]  max_depth=10, min_samples_leaf=3, n_estimators=200, score=0.833, total=   2.7s\n",
      "[CV] max_depth=10, min_samples_leaf=3, n_estimators=200 ..............\n",
      "[CV]  max_depth=10, min_samples_leaf=3, n_estimators=200, score=0.833, total=   2.9s\n",
      "[CV] max_depth=10, min_samples_leaf=3, n_estimators=500 ..............\n",
      "[CV]  max_depth=10, min_samples_leaf=3, n_estimators=500, score=0.836, total=   6.9s\n",
      "[CV] max_depth=10, min_samples_leaf=3, n_estimators=500 ..............\n",
      "[CV]  max_depth=10, min_samples_leaf=3, n_estimators=500, score=0.837, total=   6.8s\n",
      "[CV] max_depth=10, min_samples_leaf=3, n_estimators=500 ..............\n",
      "[CV]  max_depth=10, min_samples_leaf=3, n_estimators=500, score=0.836, total=   6.8s\n",
      "[CV] max_depth=10, min_samples_leaf=3, n_estimators=500 ..............\n",
      "[CV]  max_depth=10, min_samples_leaf=3, n_estimators=500, score=0.830, total=   6.5s\n",
      "[CV] max_depth=10, min_samples_leaf=3, n_estimators=500 ..............\n",
      "[CV]  max_depth=10, min_samples_leaf=3, n_estimators=500, score=0.834, total=   6.5s\n",
      "[CV] max_depth=10, min_samples_leaf=3, n_estimators=700 ..............\n",
      "[CV]  max_depth=10, min_samples_leaf=3, n_estimators=700, score=0.835, total=   9.3s\n",
      "[CV] max_depth=10, min_samples_leaf=3, n_estimators=700 ..............\n",
      "[CV]  max_depth=10, min_samples_leaf=3, n_estimators=700, score=0.838, total=   9.5s\n",
      "[CV] max_depth=10, min_samples_leaf=3, n_estimators=700 ..............\n",
      "[CV]  max_depth=10, min_samples_leaf=3, n_estimators=700, score=0.837, total=   9.2s\n",
      "[CV] max_depth=10, min_samples_leaf=3, n_estimators=700 ..............\n",
      "[CV]  max_depth=10, min_samples_leaf=3, n_estimators=700, score=0.832, total=   9.2s\n",
      "[CV] max_depth=10, min_samples_leaf=3, n_estimators=700 ..............\n",
      "[CV]  max_depth=10, min_samples_leaf=3, n_estimators=700, score=0.833, total=   9.7s\n",
      "[CV] max_depth=10, min_samples_leaf=5, n_estimators=200 ..............\n",
      "[CV]  max_depth=10, min_samples_leaf=5, n_estimators=200, score=0.836, total=   2.6s\n",
      "[CV] max_depth=10, min_samples_leaf=5, n_estimators=200 ..............\n",
      "[CV]  max_depth=10, min_samples_leaf=5, n_estimators=200, score=0.837, total=   2.6s\n",
      "[CV] max_depth=10, min_samples_leaf=5, n_estimators=200 ..............\n",
      "[CV]  max_depth=10, min_samples_leaf=5, n_estimators=200, score=0.837, total=   2.6s\n",
      "[CV] max_depth=10, min_samples_leaf=5, n_estimators=200 ..............\n",
      "[CV]  max_depth=10, min_samples_leaf=5, n_estimators=200, score=0.836, total=   2.6s\n",
      "[CV] max_depth=10, min_samples_leaf=5, n_estimators=200 ..............\n",
      "[CV]  max_depth=10, min_samples_leaf=5, n_estimators=200, score=0.835, total=   2.6s\n",
      "[CV] max_depth=10, min_samples_leaf=5, n_estimators=500 ..............\n",
      "[CV]  max_depth=10, min_samples_leaf=5, n_estimators=500, score=0.836, total=   6.4s\n",
      "[CV] max_depth=10, min_samples_leaf=5, n_estimators=500 ..............\n",
      "[CV]  max_depth=10, min_samples_leaf=5, n_estimators=500, score=0.838, total=   6.5s\n",
      "[CV] max_depth=10, min_samples_leaf=5, n_estimators=500 ..............\n",
      "[CV]  max_depth=10, min_samples_leaf=5, n_estimators=500, score=0.837, total=   6.8s\n",
      "[CV] max_depth=10, min_samples_leaf=5, n_estimators=500 ..............\n",
      "[CV]  max_depth=10, min_samples_leaf=5, n_estimators=500, score=0.836, total=   6.5s\n",
      "[CV] max_depth=10, min_samples_leaf=5, n_estimators=500 ..............\n",
      "[CV]  max_depth=10, min_samples_leaf=5, n_estimators=500, score=0.834, total=   6.9s\n",
      "[CV] max_depth=10, min_samples_leaf=5, n_estimators=700 ..............\n",
      "[CV]  max_depth=10, min_samples_leaf=5, n_estimators=700, score=0.836, total=   9.0s\n",
      "[CV] max_depth=10, min_samples_leaf=5, n_estimators=700 ..............\n",
      "[CV]  max_depth=10, min_samples_leaf=5, n_estimators=700, score=0.837, total=   9.6s\n",
      "[CV] max_depth=10, min_samples_leaf=5, n_estimators=700 ..............\n",
      "[CV]  max_depth=10, min_samples_leaf=5, n_estimators=700, score=0.837, total=   9.0s\n",
      "[CV] max_depth=10, min_samples_leaf=5, n_estimators=700 ..............\n",
      "[CV]  max_depth=10, min_samples_leaf=5, n_estimators=700, score=0.836, total=   9.0s\n",
      "[CV] max_depth=10, min_samples_leaf=5, n_estimators=700 ..............\n",
      "[CV]  max_depth=10, min_samples_leaf=5, n_estimators=700, score=0.834, total=   9.4s\n",
      "[CV] max_depth=10, min_samples_leaf=7, n_estimators=200 ..............\n",
      "[CV]  max_depth=10, min_samples_leaf=7, n_estimators=200, score=0.837, total=   2.6s\n",
      "[CV] max_depth=10, min_samples_leaf=7, n_estimators=200 ..............\n",
      "[CV]  max_depth=10, min_samples_leaf=7, n_estimators=200, score=0.837, total=   2.5s\n",
      "[CV] max_depth=10, min_samples_leaf=7, n_estimators=200 ..............\n",
      "[CV]  max_depth=10, min_samples_leaf=7, n_estimators=200, score=0.837, total=   2.5s\n",
      "[CV] max_depth=10, min_samples_leaf=7, n_estimators=200 ..............\n",
      "[CV]  max_depth=10, min_samples_leaf=7, n_estimators=200, score=0.836, total=   2.5s\n",
      "[CV] max_depth=10, min_samples_leaf=7, n_estimators=200 ..............\n",
      "[CV]  max_depth=10, min_samples_leaf=7, n_estimators=200, score=0.835, total=   2.6s\n",
      "[CV] max_depth=10, min_samples_leaf=7, n_estimators=500 ..............\n",
      "[CV]  max_depth=10, min_samples_leaf=7, n_estimators=500, score=0.837, total=   6.3s\n",
      "[CV] max_depth=10, min_samples_leaf=7, n_estimators=500 ..............\n",
      "[CV]  max_depth=10, min_samples_leaf=7, n_estimators=500, score=0.837, total=   6.5s\n",
      "[CV] max_depth=10, min_samples_leaf=7, n_estimators=500 ..............\n",
      "[CV]  max_depth=10, min_samples_leaf=7, n_estimators=500, score=0.837, total=   6.8s\n",
      "[CV] max_depth=10, min_samples_leaf=7, n_estimators=500 ..............\n",
      "[CV]  max_depth=10, min_samples_leaf=7, n_estimators=500, score=0.836, total=   6.3s\n",
      "[CV] max_depth=10, min_samples_leaf=7, n_estimators=500 ..............\n",
      "[CV]  max_depth=10, min_samples_leaf=7, n_estimators=500, score=0.836, total=   6.4s\n",
      "[CV] max_depth=10, min_samples_leaf=7, n_estimators=700 ..............\n",
      "[CV]  max_depth=10, min_samples_leaf=7, n_estimators=700, score=0.836, total=   8.9s\n",
      "[CV] max_depth=10, min_samples_leaf=7, n_estimators=700 ..............\n",
      "[CV]  max_depth=10, min_samples_leaf=7, n_estimators=700, score=0.837, total=   9.4s\n",
      "[CV] max_depth=10, min_samples_leaf=7, n_estimators=700 ..............\n",
      "[CV]  max_depth=10, min_samples_leaf=7, n_estimators=700, score=0.837, total=   9.1s\n",
      "[CV] max_depth=10, min_samples_leaf=7, n_estimators=700 ..............\n",
      "[CV]  max_depth=10, min_samples_leaf=7, n_estimators=700, score=0.836, total=   9.0s\n",
      "[CV] max_depth=10, min_samples_leaf=7, n_estimators=700 ..............\n",
      "[CV]  max_depth=10, min_samples_leaf=7, n_estimators=700, score=0.834, total=   9.2s\n",
      "[CV] max_depth=15, min_samples_leaf=3, n_estimators=200 ..............\n",
      "[CV]  max_depth=15, min_samples_leaf=3, n_estimators=200, score=0.836, total=   3.2s\n",
      "[CV] max_depth=15, min_samples_leaf=3, n_estimators=200 ..............\n",
      "[CV]  max_depth=15, min_samples_leaf=3, n_estimators=200, score=0.837, total=   3.2s\n",
      "[CV] max_depth=15, min_samples_leaf=3, n_estimators=200 ..............\n",
      "[CV]  max_depth=15, min_samples_leaf=3, n_estimators=200, score=0.836, total=   3.3s\n",
      "[CV] max_depth=15, min_samples_leaf=3, n_estimators=200 ..............\n",
      "[CV]  max_depth=15, min_samples_leaf=3, n_estimators=200, score=0.833, total=   3.2s\n",
      "[CV] max_depth=15, min_samples_leaf=3, n_estimators=200 ..............\n",
      "[CV]  max_depth=15, min_samples_leaf=3, n_estimators=200, score=0.833, total=   3.2s\n",
      "[CV] max_depth=15, min_samples_leaf=3, n_estimators=500 ..............\n",
      "[CV]  max_depth=15, min_samples_leaf=3, n_estimators=500, score=0.835, total=   7.8s\n",
      "[CV] max_depth=15, min_samples_leaf=3, n_estimators=500 ..............\n",
      "[CV]  max_depth=15, min_samples_leaf=3, n_estimators=500, score=0.839, total=   8.4s\n",
      "[CV] max_depth=15, min_samples_leaf=3, n_estimators=500 ..............\n",
      "[CV]  max_depth=15, min_samples_leaf=3, n_estimators=500, score=0.837, total=   7.8s\n",
      "[CV] max_depth=15, min_samples_leaf=3, n_estimators=500 ..............\n",
      "[CV]  max_depth=15, min_samples_leaf=3, n_estimators=500, score=0.834, total=   7.8s\n",
      "[CV] max_depth=15, min_samples_leaf=3, n_estimators=500 ..............\n",
      "[CV]  max_depth=15, min_samples_leaf=3, n_estimators=500, score=0.834, total=   8.2s\n",
      "[CV] max_depth=15, min_samples_leaf=3, n_estimators=700 ..............\n"
     ]
    },
    {
     "name": "stdout",
     "output_type": "stream",
     "text": [
      "[CV]  max_depth=15, min_samples_leaf=3, n_estimators=700, score=0.836, total=  11.2s\n",
      "[CV] max_depth=15, min_samples_leaf=3, n_estimators=700 ..............\n",
      "[CV]  max_depth=15, min_samples_leaf=3, n_estimators=700, score=0.838, total=  11.0s\n",
      "[CV] max_depth=15, min_samples_leaf=3, n_estimators=700 ..............\n",
      "[CV]  max_depth=15, min_samples_leaf=3, n_estimators=700, score=0.836, total=  11.5s\n",
      "[CV] max_depth=15, min_samples_leaf=3, n_estimators=700 ..............\n",
      "[CV]  max_depth=15, min_samples_leaf=3, n_estimators=700, score=0.829, total=  11.0s\n",
      "[CV] max_depth=15, min_samples_leaf=3, n_estimators=700 ..............\n",
      "[CV]  max_depth=15, min_samples_leaf=3, n_estimators=700, score=0.835, total=  11.0s\n",
      "[CV] max_depth=15, min_samples_leaf=5, n_estimators=200 ..............\n",
      "[CV]  max_depth=15, min_samples_leaf=5, n_estimators=200, score=0.837, total=   3.0s\n",
      "[CV] max_depth=15, min_samples_leaf=5, n_estimators=200 ..............\n",
      "[CV]  max_depth=15, min_samples_leaf=5, n_estimators=200, score=0.839, total=   3.0s\n",
      "[CV] max_depth=15, min_samples_leaf=5, n_estimators=200 ..............\n",
      "[CV]  max_depth=15, min_samples_leaf=5, n_estimators=200, score=0.837, total=   3.0s\n",
      "[CV] max_depth=15, min_samples_leaf=5, n_estimators=200 ..............\n",
      "[CV]  max_depth=15, min_samples_leaf=5, n_estimators=200, score=0.830, total=   3.2s\n",
      "[CV] max_depth=15, min_samples_leaf=5, n_estimators=200 ..............\n",
      "[CV]  max_depth=15, min_samples_leaf=5, n_estimators=200, score=0.835, total=   3.0s\n",
      "[CV] max_depth=15, min_samples_leaf=5, n_estimators=500 ..............\n",
      "[CV]  max_depth=15, min_samples_leaf=5, n_estimators=500, score=0.835, total=   8.1s\n",
      "[CV] max_depth=15, min_samples_leaf=5, n_estimators=500 ..............\n",
      "[CV]  max_depth=15, min_samples_leaf=5, n_estimators=500, score=0.837, total=   7.9s\n",
      "[CV] max_depth=15, min_samples_leaf=5, n_estimators=500 ..............\n",
      "[CV]  max_depth=15, min_samples_leaf=5, n_estimators=500, score=0.837, total=   8.1s\n",
      "[CV] max_depth=15, min_samples_leaf=5, n_estimators=500 ..............\n",
      "[CV]  max_depth=15, min_samples_leaf=5, n_estimators=500, score=0.833, total=   7.6s\n",
      "[CV] max_depth=15, min_samples_leaf=5, n_estimators=500 ..............\n",
      "[CV]  max_depth=15, min_samples_leaf=5, n_estimators=500, score=0.835, total=   7.6s\n",
      "[CV] max_depth=15, min_samples_leaf=5, n_estimators=700 ..............\n",
      "[CV]  max_depth=15, min_samples_leaf=5, n_estimators=700, score=0.835, total=  10.8s\n",
      "[CV] max_depth=15, min_samples_leaf=5, n_estimators=700 ..............\n",
      "[CV]  max_depth=15, min_samples_leaf=5, n_estimators=700, score=0.839, total=  10.5s\n",
      "[CV] max_depth=15, min_samples_leaf=5, n_estimators=700 ..............\n",
      "[CV]  max_depth=15, min_samples_leaf=5, n_estimators=700, score=0.837, total=  10.7s\n",
      "[CV] max_depth=15, min_samples_leaf=5, n_estimators=700 ..............\n",
      "[CV]  max_depth=15, min_samples_leaf=5, n_estimators=700, score=0.833, total=  11.1s\n",
      "[CV] max_depth=15, min_samples_leaf=5, n_estimators=700 ..............\n",
      "[CV]  max_depth=15, min_samples_leaf=5, n_estimators=700, score=0.832, total=  10.8s\n",
      "[CV] max_depth=15, min_samples_leaf=7, n_estimators=200 ..............\n",
      "[CV]  max_depth=15, min_samples_leaf=7, n_estimators=200, score=0.837, total=   2.9s\n",
      "[CV] max_depth=15, min_samples_leaf=7, n_estimators=200 ..............\n",
      "[CV]  max_depth=15, min_samples_leaf=7, n_estimators=200, score=0.839, total=   3.0s\n",
      "[CV] max_depth=15, min_samples_leaf=7, n_estimators=200 ..............\n",
      "[CV]  max_depth=15, min_samples_leaf=7, n_estimators=200, score=0.837, total=   2.9s\n",
      "[CV] max_depth=15, min_samples_leaf=7, n_estimators=200 ..............\n",
      "[CV]  max_depth=15, min_samples_leaf=7, n_estimators=200, score=0.835, total=   2.9s\n",
      "[CV] max_depth=15, min_samples_leaf=7, n_estimators=200 ..............\n",
      "[CV]  max_depth=15, min_samples_leaf=7, n_estimators=200, score=0.836, total=   3.0s\n",
      "[CV] max_depth=15, min_samples_leaf=7, n_estimators=500 ..............\n",
      "[CV]  max_depth=15, min_samples_leaf=7, n_estimators=500, score=0.836, total=   7.5s\n",
      "[CV] max_depth=15, min_samples_leaf=7, n_estimators=500 ..............\n",
      "[CV]  max_depth=15, min_samples_leaf=7, n_estimators=500, score=0.837, total=   7.4s\n",
      "[CV] max_depth=15, min_samples_leaf=7, n_estimators=500 ..............\n",
      "[CV]  max_depth=15, min_samples_leaf=7, n_estimators=500, score=0.837, total=   7.3s\n",
      "[CV] max_depth=15, min_samples_leaf=7, n_estimators=500 ..............\n",
      "[CV]  max_depth=15, min_samples_leaf=7, n_estimators=500, score=0.836, total=   7.4s\n",
      "[CV] max_depth=15, min_samples_leaf=7, n_estimators=500 ..............\n",
      "[CV]  max_depth=15, min_samples_leaf=7, n_estimators=500, score=0.833, total=   7.7s\n",
      "[CV] max_depth=15, min_samples_leaf=7, n_estimators=700 ..............\n",
      "[CV]  max_depth=15, min_samples_leaf=7, n_estimators=700, score=0.837, total=  10.1s\n",
      "[CV] max_depth=15, min_samples_leaf=7, n_estimators=700 ..............\n",
      "[CV]  max_depth=15, min_samples_leaf=7, n_estimators=700, score=0.836, total=  10.2s\n",
      "[CV] max_depth=15, min_samples_leaf=7, n_estimators=700 ..............\n",
      "[CV]  max_depth=15, min_samples_leaf=7, n_estimators=700, score=0.837, total=  10.3s\n",
      "[CV] max_depth=15, min_samples_leaf=7, n_estimators=700 ..............\n",
      "[CV]  max_depth=15, min_samples_leaf=7, n_estimators=700, score=0.836, total=  10.3s\n",
      "[CV] max_depth=15, min_samples_leaf=7, n_estimators=700 ..............\n",
      "[CV]  max_depth=15, min_samples_leaf=7, n_estimators=700, score=0.834, total=  10.3s\n",
      "[CV] max_depth=18, min_samples_leaf=3, n_estimators=200 ..............\n",
      "[CV]  max_depth=18, min_samples_leaf=3, n_estimators=200, score=0.834, total=   3.2s\n",
      "[CV] max_depth=18, min_samples_leaf=3, n_estimators=200 ..............\n",
      "[CV]  max_depth=18, min_samples_leaf=3, n_estimators=200, score=0.837, total=   3.2s\n",
      "[CV] max_depth=18, min_samples_leaf=3, n_estimators=200 ..............\n",
      "[CV]  max_depth=18, min_samples_leaf=3, n_estimators=200, score=0.836, total=   3.3s\n",
      "[CV] max_depth=18, min_samples_leaf=3, n_estimators=200 ..............\n",
      "[CV]  max_depth=18, min_samples_leaf=3, n_estimators=200, score=0.830, total=   3.3s\n",
      "[CV] max_depth=18, min_samples_leaf=3, n_estimators=200 ..............\n",
      "[CV]  max_depth=18, min_samples_leaf=3, n_estimators=200, score=0.836, total=   3.2s\n",
      "[CV] max_depth=18, min_samples_leaf=3, n_estimators=500 ..............\n",
      "[CV]  max_depth=18, min_samples_leaf=3, n_estimators=500, score=0.835, total=   8.1s\n",
      "[CV] max_depth=18, min_samples_leaf=3, n_estimators=500 ..............\n",
      "[CV]  max_depth=18, min_samples_leaf=3, n_estimators=500, score=0.837, total=   8.3s\n",
      "[CV] max_depth=18, min_samples_leaf=3, n_estimators=500 ..............\n",
      "[CV]  max_depth=18, min_samples_leaf=3, n_estimators=500, score=0.837, total=   8.2s\n",
      "[CV] max_depth=18, min_samples_leaf=3, n_estimators=500 ..............\n",
      "[CV]  max_depth=18, min_samples_leaf=3, n_estimators=500, score=0.831, total=   8.2s\n",
      "[CV] max_depth=18, min_samples_leaf=3, n_estimators=500 ..............\n",
      "[CV]  max_depth=18, min_samples_leaf=3, n_estimators=500, score=0.833, total=   8.2s\n",
      "[CV] max_depth=18, min_samples_leaf=3, n_estimators=700 ..............\n",
      "[CV]  max_depth=18, min_samples_leaf=3, n_estimators=700, score=0.835, total=  11.4s\n",
      "[CV] max_depth=18, min_samples_leaf=3, n_estimators=700 ..............\n",
      "[CV]  max_depth=18, min_samples_leaf=3, n_estimators=700, score=0.839, total=  11.5s\n",
      "[CV] max_depth=18, min_samples_leaf=3, n_estimators=700 ..............\n",
      "[CV]  max_depth=18, min_samples_leaf=3, n_estimators=700, score=0.838, total=  11.5s\n",
      "[CV] max_depth=18, min_samples_leaf=3, n_estimators=700 ..............\n",
      "[CV]  max_depth=18, min_samples_leaf=3, n_estimators=700, score=0.830, total=  11.7s\n",
      "[CV] max_depth=18, min_samples_leaf=3, n_estimators=700 ..............\n",
      "[CV]  max_depth=18, min_samples_leaf=3, n_estimators=700, score=0.833, total=  11.4s\n",
      "[CV] max_depth=18, min_samples_leaf=5, n_estimators=200 ..............\n",
      "[CV]  max_depth=18, min_samples_leaf=5, n_estimators=200, score=0.836, total=   3.0s\n",
      "[CV] max_depth=18, min_samples_leaf=5, n_estimators=200 ..............\n",
      "[CV]  max_depth=18, min_samples_leaf=5, n_estimators=200, score=0.839, total=   3.3s\n",
      "[CV] max_depth=18, min_samples_leaf=5, n_estimators=200 ..............\n",
      "[CV]  max_depth=18, min_samples_leaf=5, n_estimators=200, score=0.837, total=   3.6s\n",
      "[CV] max_depth=18, min_samples_leaf=5, n_estimators=200 ..............\n"
     ]
    },
    {
     "name": "stdout",
     "output_type": "stream",
     "text": [
      "[CV]  max_depth=18, min_samples_leaf=5, n_estimators=200, score=0.832, total=   3.1s\n",
      "[CV] max_depth=18, min_samples_leaf=5, n_estimators=200 ..............\n",
      "[CV]  max_depth=18, min_samples_leaf=5, n_estimators=200, score=0.832, total=   3.1s\n",
      "[CV] max_depth=18, min_samples_leaf=5, n_estimators=500 ..............\n",
      "[CV]  max_depth=18, min_samples_leaf=5, n_estimators=500, score=0.835, total=   7.8s\n",
      "[CV] max_depth=18, min_samples_leaf=5, n_estimators=500 ..............\n",
      "[CV]  max_depth=18, min_samples_leaf=5, n_estimators=500, score=0.839, total=   7.8s\n",
      "[CV] max_depth=18, min_samples_leaf=5, n_estimators=500 ..............\n",
      "[CV]  max_depth=18, min_samples_leaf=5, n_estimators=500, score=0.836, total=   8.0s\n",
      "[CV] max_depth=18, min_samples_leaf=5, n_estimators=500 ..............\n",
      "[CV]  max_depth=18, min_samples_leaf=5, n_estimators=500, score=0.831, total=   7.8s\n",
      "[CV] max_depth=18, min_samples_leaf=5, n_estimators=500 ..............\n",
      "[CV]  max_depth=18, min_samples_leaf=5, n_estimators=500, score=0.834, total=   8.0s\n",
      "[CV] max_depth=18, min_samples_leaf=5, n_estimators=700 ..............\n",
      "[CV]  max_depth=18, min_samples_leaf=5, n_estimators=700, score=0.836, total=  11.0s\n",
      "[CV] max_depth=18, min_samples_leaf=5, n_estimators=700 ..............\n",
      "[CV]  max_depth=18, min_samples_leaf=5, n_estimators=700, score=0.837, total=  11.3s\n",
      "[CV] max_depth=18, min_samples_leaf=5, n_estimators=700 ..............\n",
      "[CV]  max_depth=18, min_samples_leaf=5, n_estimators=700, score=0.837, total=  11.0s\n",
      "[CV] max_depth=18, min_samples_leaf=5, n_estimators=700 ..............\n",
      "[CV]  max_depth=18, min_samples_leaf=5, n_estimators=700, score=0.831, total=  11.4s\n",
      "[CV] max_depth=18, min_samples_leaf=5, n_estimators=700 ..............\n",
      "[CV]  max_depth=18, min_samples_leaf=5, n_estimators=700, score=0.833, total=  11.0s\n",
      "[CV] max_depth=18, min_samples_leaf=7, n_estimators=200 ..............\n",
      "[CV]  max_depth=18, min_samples_leaf=7, n_estimators=200, score=0.836, total=   2.9s\n",
      "[CV] max_depth=18, min_samples_leaf=7, n_estimators=200 ..............\n",
      "[CV]  max_depth=18, min_samples_leaf=7, n_estimators=200, score=0.836, total=   3.1s\n",
      "[CV] max_depth=18, min_samples_leaf=7, n_estimators=200 ..............\n",
      "[CV]  max_depth=18, min_samples_leaf=7, n_estimators=200, score=0.837, total=   3.1s\n",
      "[CV] max_depth=18, min_samples_leaf=7, n_estimators=200 ..............\n",
      "[CV]  max_depth=18, min_samples_leaf=7, n_estimators=200, score=0.836, total=   3.0s\n",
      "[CV] max_depth=18, min_samples_leaf=7, n_estimators=200 ..............\n",
      "[CV]  max_depth=18, min_samples_leaf=7, n_estimators=200, score=0.836, total=   3.0s\n",
      "[CV] max_depth=18, min_samples_leaf=7, n_estimators=500 ..............\n",
      "[CV]  max_depth=18, min_samples_leaf=7, n_estimators=500, score=0.836, total=   7.5s\n",
      "[CV] max_depth=18, min_samples_leaf=7, n_estimators=500 ..............\n",
      "[CV]  max_depth=18, min_samples_leaf=7, n_estimators=500, score=0.837, total=   7.5s\n",
      "[CV] max_depth=18, min_samples_leaf=7, n_estimators=500 ..............\n",
      "[CV]  max_depth=18, min_samples_leaf=7, n_estimators=500, score=0.837, total=   7.5s\n",
      "[CV] max_depth=18, min_samples_leaf=7, n_estimators=500 ..............\n",
      "[CV]  max_depth=18, min_samples_leaf=7, n_estimators=500, score=0.836, total=   7.7s\n",
      "[CV] max_depth=18, min_samples_leaf=7, n_estimators=500 ..............\n",
      "[CV]  max_depth=18, min_samples_leaf=7, n_estimators=500, score=0.835, total=   7.8s\n",
      "[CV] max_depth=18, min_samples_leaf=7, n_estimators=700 ..............\n",
      "[CV]  max_depth=18, min_samples_leaf=7, n_estimators=700, score=0.836, total=  10.4s\n",
      "[CV] max_depth=18, min_samples_leaf=7, n_estimators=700 ..............\n",
      "[CV]  max_depth=18, min_samples_leaf=7, n_estimators=700, score=0.836, total=  10.6s\n",
      "[CV] max_depth=18, min_samples_leaf=7, n_estimators=700 ..............\n",
      "[CV]  max_depth=18, min_samples_leaf=7, n_estimators=700, score=0.837, total=  11.1s\n",
      "[CV] max_depth=18, min_samples_leaf=7, n_estimators=700 ..............\n",
      "[CV]  max_depth=18, min_samples_leaf=7, n_estimators=700, score=0.835, total=  10.6s\n",
      "[CV] max_depth=18, min_samples_leaf=7, n_estimators=700 ..............\n",
      "[CV]  max_depth=18, min_samples_leaf=7, n_estimators=700, score=0.836, total=  10.9s\n",
      "[CV] max_depth=20, min_samples_leaf=3, n_estimators=200 ..............\n",
      "[CV]  max_depth=20, min_samples_leaf=3, n_estimators=200, score=0.836, total=   3.3s\n",
      "[CV] max_depth=20, min_samples_leaf=3, n_estimators=200 ..............\n",
      "[CV]  max_depth=20, min_samples_leaf=3, n_estimators=200, score=0.840, total=   3.2s\n",
      "[CV] max_depth=20, min_samples_leaf=3, n_estimators=200 ..............\n",
      "[CV]  max_depth=20, min_samples_leaf=3, n_estimators=200, score=0.836, total=   3.6s\n",
      "[CV] max_depth=20, min_samples_leaf=3, n_estimators=200 ..............\n",
      "[CV]  max_depth=20, min_samples_leaf=3, n_estimators=200, score=0.830, total=   3.6s\n",
      "[CV] max_depth=20, min_samples_leaf=3, n_estimators=200 ..............\n",
      "[CV]  max_depth=20, min_samples_leaf=3, n_estimators=200, score=0.831, total=   3.4s\n",
      "[CV] max_depth=20, min_samples_leaf=3, n_estimators=500 ..............\n",
      "[CV]  max_depth=20, min_samples_leaf=3, n_estimators=500, score=0.834, total=   8.3s\n",
      "[CV] max_depth=20, min_samples_leaf=3, n_estimators=500 ..............\n",
      "[CV]  max_depth=20, min_samples_leaf=3, n_estimators=500, score=0.839, total=   8.4s\n",
      "[CV] max_depth=20, min_samples_leaf=3, n_estimators=500 ..............\n",
      "[CV]  max_depth=20, min_samples_leaf=3, n_estimators=500, score=0.839, total=   8.3s\n",
      "[CV] max_depth=20, min_samples_leaf=3, n_estimators=500 ..............\n",
      "[CV]  max_depth=20, min_samples_leaf=3, n_estimators=500, score=0.830, total=   8.4s\n",
      "[CV] max_depth=20, min_samples_leaf=3, n_estimators=500 ..............\n",
      "[CV]  max_depth=20, min_samples_leaf=3, n_estimators=500, score=0.833, total=   8.5s\n",
      "[CV] max_depth=20, min_samples_leaf=3, n_estimators=700 ..............\n",
      "[CV]  max_depth=20, min_samples_leaf=3, n_estimators=700, score=0.835, total=  11.8s\n",
      "[CV] max_depth=20, min_samples_leaf=3, n_estimators=700 ..............\n",
      "[CV]  max_depth=20, min_samples_leaf=3, n_estimators=700, score=0.839, total=  11.8s\n",
      "[CV] max_depth=20, min_samples_leaf=3, n_estimators=700 ..............\n",
      "[CV]  max_depth=20, min_samples_leaf=3, n_estimators=700, score=0.838, total=  11.9s\n",
      "[CV] max_depth=20, min_samples_leaf=3, n_estimators=700 ..............\n",
      "[CV]  max_depth=20, min_samples_leaf=3, n_estimators=700, score=0.830, total=  11.6s\n",
      "[CV] max_depth=20, min_samples_leaf=3, n_estimators=700 ..............\n",
      "[CV]  max_depth=20, min_samples_leaf=3, n_estimators=700, score=0.833, total=  11.9s\n",
      "[CV] max_depth=20, min_samples_leaf=5, n_estimators=200 ..............\n",
      "[CV]  max_depth=20, min_samples_leaf=5, n_estimators=200, score=0.837, total=   3.2s\n",
      "[CV] max_depth=20, min_samples_leaf=5, n_estimators=200 ..............\n",
      "[CV]  max_depth=20, min_samples_leaf=5, n_estimators=200, score=0.839, total=   3.2s\n",
      "[CV] max_depth=20, min_samples_leaf=5, n_estimators=200 ..............\n",
      "[CV]  max_depth=20, min_samples_leaf=5, n_estimators=200, score=0.836, total=   3.5s\n",
      "[CV] max_depth=20, min_samples_leaf=5, n_estimators=200 ..............\n",
      "[CV]  max_depth=20, min_samples_leaf=5, n_estimators=200, score=0.834, total=   3.3s\n",
      "[CV] max_depth=20, min_samples_leaf=5, n_estimators=200 ..............\n",
      "[CV]  max_depth=20, min_samples_leaf=5, n_estimators=200, score=0.834, total=   3.4s\n",
      "[CV] max_depth=20, min_samples_leaf=5, n_estimators=500 ..............\n",
      "[CV]  max_depth=20, min_samples_leaf=5, n_estimators=500, score=0.837, total=   8.0s\n",
      "[CV] max_depth=20, min_samples_leaf=5, n_estimators=500 ..............\n",
      "[CV]  max_depth=20, min_samples_leaf=5, n_estimators=500, score=0.838, total=   8.4s\n",
      "[CV] max_depth=20, min_samples_leaf=5, n_estimators=500 ..............\n",
      "[CV]  max_depth=20, min_samples_leaf=5, n_estimators=500, score=0.837, total=   8.2s\n",
      "[CV] max_depth=20, min_samples_leaf=5, n_estimators=500 ..............\n",
      "[CV]  max_depth=20, min_samples_leaf=5, n_estimators=500, score=0.832, total=   8.0s\n",
      "[CV] max_depth=20, min_samples_leaf=5, n_estimators=500 ..............\n",
      "[CV]  max_depth=20, min_samples_leaf=5, n_estimators=500, score=0.835, total=   8.0s\n",
      "[CV] max_depth=20, min_samples_leaf=5, n_estimators=700 ..............\n",
      "[CV]  max_depth=20, min_samples_leaf=5, n_estimators=700, score=0.836, total=  11.4s\n",
      "[CV] max_depth=20, min_samples_leaf=5, n_estimators=700 ..............\n"
     ]
    },
    {
     "name": "stdout",
     "output_type": "stream",
     "text": [
      "[CV]  max_depth=20, min_samples_leaf=5, n_estimators=700, score=0.837, total=  11.2s\n",
      "[CV] max_depth=20, min_samples_leaf=5, n_estimators=700 ..............\n",
      "[CV]  max_depth=20, min_samples_leaf=5, n_estimators=700, score=0.837, total=  11.2s\n",
      "[CV] max_depth=20, min_samples_leaf=5, n_estimators=700 ..............\n",
      "[CV]  max_depth=20, min_samples_leaf=5, n_estimators=700, score=0.832, total=  11.1s\n",
      "[CV] max_depth=20, min_samples_leaf=5, n_estimators=700 ..............\n",
      "[CV]  max_depth=20, min_samples_leaf=5, n_estimators=700, score=0.833, total=  11.1s\n",
      "[CV] max_depth=20, min_samples_leaf=7, n_estimators=200 ..............\n",
      "[CV]  max_depth=20, min_samples_leaf=7, n_estimators=200, score=0.837, total=   3.0s\n",
      "[CV] max_depth=20, min_samples_leaf=7, n_estimators=200 ..............\n",
      "[CV]  max_depth=20, min_samples_leaf=7, n_estimators=200, score=0.837, total=   3.1s\n",
      "[CV] max_depth=20, min_samples_leaf=7, n_estimators=200 ..............\n",
      "[CV]  max_depth=20, min_samples_leaf=7, n_estimators=200, score=0.837, total=   3.2s\n",
      "[CV] max_depth=20, min_samples_leaf=7, n_estimators=200 ..............\n",
      "[CV]  max_depth=20, min_samples_leaf=7, n_estimators=200, score=0.833, total=   3.1s\n",
      "[CV] max_depth=20, min_samples_leaf=7, n_estimators=200 ..............\n",
      "[CV]  max_depth=20, min_samples_leaf=7, n_estimators=200, score=0.834, total=   3.0s\n",
      "[CV] max_depth=20, min_samples_leaf=7, n_estimators=500 ..............\n",
      "[CV]  max_depth=20, min_samples_leaf=7, n_estimators=500, score=0.837, total=   7.4s\n",
      "[CV] max_depth=20, min_samples_leaf=7, n_estimators=500 ..............\n",
      "[CV]  max_depth=20, min_samples_leaf=7, n_estimators=500, score=0.838, total=   7.6s\n",
      "[CV] max_depth=20, min_samples_leaf=7, n_estimators=500 ..............\n",
      "[CV]  max_depth=20, min_samples_leaf=7, n_estimators=500, score=0.837, total=   7.8s\n",
      "[CV] max_depth=20, min_samples_leaf=7, n_estimators=500 ..............\n",
      "[CV]  max_depth=20, min_samples_leaf=7, n_estimators=500, score=0.836, total=   7.8s\n",
      "[CV] max_depth=20, min_samples_leaf=7, n_estimators=500 ..............\n",
      "[CV]  max_depth=20, min_samples_leaf=7, n_estimators=500, score=0.835, total=   7.6s\n",
      "[CV] max_depth=20, min_samples_leaf=7, n_estimators=700 ..............\n",
      "[CV]  max_depth=20, min_samples_leaf=7, n_estimators=700, score=0.837, total=  10.6s\n",
      "[CV] max_depth=20, min_samples_leaf=7, n_estimators=700 ..............\n",
      "[CV]  max_depth=20, min_samples_leaf=7, n_estimators=700, score=0.836, total=  11.2s\n",
      "[CV] max_depth=20, min_samples_leaf=7, n_estimators=700 ..............\n",
      "[CV]  max_depth=20, min_samples_leaf=7, n_estimators=700, score=0.837, total=  10.8s\n",
      "[CV] max_depth=20, min_samples_leaf=7, n_estimators=700 ..............\n",
      "[CV]  max_depth=20, min_samples_leaf=7, n_estimators=700, score=0.836, total=  10.9s\n",
      "[CV] max_depth=20, min_samples_leaf=7, n_estimators=700 ..............\n",
      "[CV]  max_depth=20, min_samples_leaf=7, n_estimators=700, score=0.832, total=  11.0s\n"
     ]
    },
    {
     "name": "stderr",
     "output_type": "stream",
     "text": [
      "[Parallel(n_jobs=1)]: Done 180 out of 180 | elapsed: 21.2min finished\n"
     ]
    },
    {
     "data": {
      "text/plain": [
       "GridSearchCV(cv=None, error_score=nan,\n",
       "             estimator=RandomForestClassifier(bootstrap=True, ccp_alpha=0.0,\n",
       "                                              class_weight=None,\n",
       "                                              criterion='gini', max_depth=None,\n",
       "                                              max_features='auto',\n",
       "                                              max_leaf_nodes=None,\n",
       "                                              max_samples=None,\n",
       "                                              min_impurity_decrease=0.0,\n",
       "                                              min_impurity_split=None,\n",
       "                                              min_samples_leaf=1,\n",
       "                                              min_samples_split=2,\n",
       "                                              min_weight_fraction_leaf=0.0,\n",
       "                                              n_estimators=100, n_jobs=None,\n",
       "                                              oob_score=False,\n",
       "                                              random_state=None, verbose=0,\n",
       "                                              warm_start=False),\n",
       "             iid='deprecated', n_jobs=None,\n",
       "             param_grid={'max_depth': [10, 15, 18, 20],\n",
       "                         'min_samples_leaf': [3, 5, 7],\n",
       "                         'n_estimators': [200, 500, 700]},\n",
       "             pre_dispatch='2*n_jobs', refit=True, return_train_score=False,\n",
       "             scoring=None, verbose=3)"
      ]
     },
     "execution_count": 37,
     "metadata": {},
     "output_type": "execute_result"
    }
   ],
   "source": [
    "gs.fit(x_train, y_train)"
   ]
  },
  {
   "cell_type": "code",
   "execution_count": 38,
   "metadata": {},
   "outputs": [
    {
     "data": {
      "text/plain": [
       "{'max_depth': 15, 'min_samples_leaf': 7, 'n_estimators': 200}"
      ]
     },
     "execution_count": 38,
     "metadata": {},
     "output_type": "execute_result"
    }
   ],
   "source": [
    "gs.best_params_"
   ]
  },
  {
   "cell_type": "code",
   "execution_count": 39,
   "metadata": {},
   "outputs": [
    {
     "data": {
      "text/plain": [
       "RandomForestClassifier(bootstrap=True, ccp_alpha=0.0, class_weight=None,\n",
       "                       criterion='gini', max_depth=15, max_features='auto',\n",
       "                       max_leaf_nodes=None, max_samples=None,\n",
       "                       min_impurity_decrease=0.0, min_impurity_split=None,\n",
       "                       min_samples_leaf=7, min_samples_split=2,\n",
       "                       min_weight_fraction_leaf=0.0, n_estimators=200,\n",
       "                       n_jobs=None, oob_score=False, random_state=None,\n",
       "                       verbose=0, warm_start=False)"
      ]
     },
     "execution_count": 39,
     "metadata": {},
     "output_type": "execute_result"
    }
   ],
   "source": [
    "gs.best_estimator_"
   ]
  },
  {
   "cell_type": "code",
   "execution_count": 55,
   "metadata": {},
   "outputs": [],
   "source": [
    "rf1 =RandomForestClassifier(bootstrap=True, ccp_alpha=0.0, class_weight=None,\n",
    "                       criterion='gini', max_depth=15, max_features='auto',\n",
    "                       max_leaf_nodes=None, max_samples=None,\n",
    "                       min_impurity_decrease=0.0, min_impurity_split=None,\n",
    "                       min_samples_leaf=7, min_samples_split=2,\n",
    "                       min_weight_fraction_leaf=0.0, n_estimators=200,\n",
    "                       n_jobs=None, oob_score=True, random_state=None,\n",
    "                       verbose=0, warm_start=False)"
   ]
  },
  {
   "cell_type": "code",
   "execution_count": 56,
   "metadata": {},
   "outputs": [
    {
     "data": {
      "text/plain": [
       "RandomForestClassifier(bootstrap=True, ccp_alpha=0.0, class_weight=None,\n",
       "                       criterion='gini', max_depth=15, max_features='auto',\n",
       "                       max_leaf_nodes=None, max_samples=None,\n",
       "                       min_impurity_decrease=0.0, min_impurity_split=None,\n",
       "                       min_samples_leaf=7, min_samples_split=2,\n",
       "                       min_weight_fraction_leaf=0.0, n_estimators=200,\n",
       "                       n_jobs=None, oob_score=True, random_state=None,\n",
       "                       verbose=0, warm_start=False)"
      ]
     },
     "execution_count": 56,
     "metadata": {},
     "output_type": "execute_result"
    }
   ],
   "source": [
    "rf1.fit(x_train, y_train)"
   ]
  },
  {
   "cell_type": "code",
   "execution_count": 57,
   "metadata": {},
   "outputs": [
    {
     "data": {
      "text/plain": [
       "0.8358858336233902"
      ]
     },
     "execution_count": 57,
     "metadata": {},
     "output_type": "execute_result"
    }
   ],
   "source": [
    "rf1.oob_score_"
   ]
  },
  {
   "cell_type": "code",
   "execution_count": 58,
   "metadata": {},
   "outputs": [],
   "source": [
    "pred_rf1=rf1.predict(x_test)"
   ]
  },
  {
   "cell_type": "code",
   "execution_count": 59,
   "metadata": {},
   "outputs": [
    {
     "name": "stdout",
     "output_type": "stream",
     "text": [
      "0.8444676409185804\n"
     ]
    }
   ],
   "source": [
    "print(accuracy_score(y_test, pred_rf1))"
   ]
  },
  {
   "cell_type": "code",
   "execution_count": 60,
   "metadata": {},
   "outputs": [
    {
     "data": {
      "text/plain": [
       "array([0.04171502, 0.11590375, 0.12596326, 0.10642457, 0.10048273,\n",
       "       0.08253686, 0.11237372, 0.10971925, 0.11788731, 0.07366706,\n",
       "       0.00682489, 0.00650158])"
      ]
     },
     "execution_count": 60,
     "metadata": {},
     "output_type": "execute_result"
    }
   ],
   "source": [
    "rf1.feature_importances_"
   ]
  },
  {
   "cell_type": "code",
   "execution_count": 61,
   "metadata": {},
   "outputs": [
    {
     "data": {
      "text/plain": [
       "[(0.12596326439380665, 'int.rate'),\n",
       " (0.11788731127586874, 'revol.bal'),\n",
       " (0.11590375062662873, 'purpose'),\n",
       " (0.11237371749741168, 'fico'),\n",
       " (0.1097192470063774, 'days.with.cr.line'),\n",
       " (0.10642457356181083, 'installment'),\n",
       " (0.10048273150428531, 'log.annual.inc'),\n",
       " (0.08253685509847553, 'dti'),\n",
       " (0.07366705882205156, 'revol.util'),\n",
       " (0.041715017405085805, 'credit.policy'),\n",
       " (0.006824891061878758, 'inq.last.6mths'),\n",
       " (0.006501581746318963, 'delinq.2yrs')]"
      ]
     },
     "execution_count": 61,
     "metadata": {},
     "output_type": "execute_result"
    }
   ],
   "source": [
    "sorted(list(zip(rf1.feature_importances_, df.columns)), reverse=True)"
   ]
  },
  {
   "cell_type": "code",
   "execution_count": null,
   "metadata": {},
   "outputs": [],
   "source": []
  }
 ],
 "metadata": {
  "kernelspec": {
   "display_name": "Python 3",
   "language": "python",
   "name": "python3"
  },
  "language_info": {
   "codemirror_mode": {
    "name": "ipython",
    "version": 3
   },
   "file_extension": ".py",
   "mimetype": "text/x-python",
   "name": "python",
   "nbconvert_exporter": "python",
   "pygments_lexer": "ipython3",
   "version": "3.7.6"
  }
 },
 "nbformat": 4,
 "nbformat_minor": 4
}
